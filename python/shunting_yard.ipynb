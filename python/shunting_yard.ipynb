{
 "cells": [
  {
   "cell_type": "code",
   "execution_count": 35,
   "metadata": {},
   "outputs": [],
   "source": [
    "from collections import namedtuple\n",
    "from pprint import pprint as pp\n",
    " \n",
    "OpInfo = namedtuple('OpInfo', 'prec assoc')\n",
    "L, R = 'Left Right'.split()\n",
    " \n",
    "ops = {\n",
    " '^': OpInfo(prec=4, assoc=R),\n",
    " '*': OpInfo(prec=3, assoc=L),\n",
    " '/': OpInfo(prec=3, assoc=L),\n",
    " '+': OpInfo(prec=2, assoc=L),\n",
    " '-': OpInfo(prec=2, assoc=L),\n",
    " '(': OpInfo(prec=9, assoc=L),\n",
    " ')': OpInfo(prec=0, assoc=L),\n",
    " }\n",
    "\n",
    "ops_action = {\n",
    " '^': lambda a,b: a**b,\n",
    " '*': lambda a,b: a*b,\n",
    " '/': lambda a,b: a/b,\n",
    " '+': lambda a,b: a+b,\n",
    " '-': lambda a,b: a-b,\n",
    " }\n",
    " \n",
    "NUM, LPAREN, RPAREN = 'NUMBER ( )'.split()\n",
    " \n",
    " \n",
    "def get_input(inp = None):\n",
    "    'Inputs an expression and returns list of (TOKENTYPE, tokenvalue)'\n",
    " \n",
    "    if inp is None:\n",
    "        inp = input('expression: ')\n",
    "    tokens = inp.strip().split()\n",
    "    tokenvals = []\n",
    "    for token in tokens:\n",
    "        if token in ops:\n",
    "            tokenvals.append((token, ops[token]))\n",
    "        #elif token in (LPAREN, RPAREN):\n",
    "        #    tokenvals.append((token, token))\n",
    "        else:    \n",
    "            tokenvals.append((NUM, token))\n",
    "    return tokenvals\n",
    " \n",
    "def shunting(tokenvals):\n",
    "    outq, stack = [], []\n",
    "    table = ['TOKEN,ACTION,RPN OUTPUT,OP STACK,NOTES'.split(',')]\n",
    "    for token, val in tokenvals:\n",
    "        note = action = ''\n",
    "        if token is NUM:\n",
    "            action = 'Add number to output'\n",
    "            outq.append(val)\n",
    "            table.append( (val, action, ' '.join(outq), ' '.join(s[0] for s in stack), note) )\n",
    "        elif token in ops:\n",
    "            t1, (p1, a1) = token, val\n",
    "            v = t1\n",
    "            note = 'Pop ops from stack to output' \n",
    "            while stack:\n",
    "                t2, (p2, a2) = stack[-1]\n",
    "                if (a1 == L and p1 <= p2) or (a1 == R and p1 < p2):\n",
    "                    if t1 != RPAREN:\n",
    "                        if t2 != LPAREN:\n",
    "                            stack.pop()\n",
    "                            action = '(Pop op)'\n",
    "                            outq.append(t2)\n",
    "                        else:    \n",
    "                            break\n",
    "                    else:        \n",
    "                        if t2 != LPAREN:\n",
    "                            stack.pop()\n",
    "                            action = '(Pop op)'\n",
    "                            outq.append(t2)\n",
    "                        else:    \n",
    "                            stack.pop()\n",
    "                            action = '(Pop & discard \"(\")'\n",
    "                            table.append( (v, action, ' '.join(outq), ' '.join(s[0] for s in stack), note) )\n",
    "                            break\n",
    "                    table.append( (v, action, ' '.join(outq), ' '.join(s[0] for s in stack), note) )\n",
    "                    v = note = ''\n",
    "                else:\n",
    "                    note = ''\n",
    "                    break\n",
    "                note = '' \n",
    "            note = '' \n",
    "            if t1 != RPAREN:\n",
    "                stack.append((token, val))\n",
    "                action = 'Push op token to stack'\n",
    "            else:\n",
    "                action = 'Discard \")\"'\n",
    "            table.append( (v, action, ' '.join(outq), ' '.join(s[0] for s in stack), note) )\n",
    "    note = 'Drain stack to output'\n",
    "    while stack:\n",
    "        v = ''\n",
    "        t2, (p2, a2) = stack[-1]\n",
    "        action = '(Pop op)'\n",
    "        stack.pop()\n",
    "        outq.append(t2)\n",
    "        table.append( (v, action, ' '.join(outq), ' '.join(s[0] for s in stack), note) )\n",
    "        v = note = ''\n",
    "    return table"
   ]
  },
  {
   "cell_type": "code",
   "execution_count": 49,
   "metadata": {},
   "outputs": [
    {
     "name": "stdout",
     "output_type": "stream",
     "text": [
      "For infix expression: '3 + 4 * 2 ^ ( 1 + 2 )'\n",
      "\n",
      "[('NUMBER', '3'), ('+', OpInfo(prec=2, assoc='Left')), ('NUMBER', '4'), ('*', OpInfo(prec=3, assoc='Left')), ('NUMBER', '2'), ('^', OpInfo(prec=4, assoc='Right')), ('(', OpInfo(prec=9, assoc='Left')), ('NUMBER', '1'), ('+', OpInfo(prec=2, assoc='Left')), ('NUMBER', '2'), (')', OpInfo(prec=0, assoc='Left'))]\n",
      "TOKEN         ACTION            RPN OUTPUT     OP STACK             NOTES            \n",
      "3     Add number to output   3                                                       \n",
      "+     Push op token to stack 3                 +                                     \n",
      "4     Add number to output   3 4               +                                     \n",
      "*     Push op token to stack 3 4               + *                                   \n",
      "2     Add number to output   3 4 2             + *                                   \n",
      "^     Push op token to stack 3 4 2             + * ^                                 \n",
      "(     Push op token to stack 3 4 2             + * ^ (                               \n",
      "1     Add number to output   3 4 2 1           + * ^ (                               \n",
      "+     Push op token to stack 3 4 2 1           + * ^ ( +                             \n",
      "2     Add number to output   3 4 2 1 2         + * ^ ( +                             \n",
      ")     (Pop op)               3 4 2 1 2 +       + * ^ (   Pop ops from stack to output\n",
      "      (Pop & discard \"(\")    3 4 2 1 2 +       + * ^                                 \n",
      "      Discard \")\"            3 4 2 1 2 +       + * ^                                 \n",
      "      (Pop op)               3 4 2 1 2 + ^     + *       Drain stack to output       \n",
      "      (Pop op)               3 4 2 1 2 + ^ *   +                                     \n",
      "      (Pop op)               3 4 2 1 2 + ^ * +                                       \n",
      "\n",
      " The final output RPN is: '3 4 2 1 2 + ^ * +'\n"
     ]
    }
   ],
   "source": [
    "infix = '3 + 4 * 2 ^ ( 1 + 2 )'\n",
    "print( 'For infix expression: %r\\n' % infix )\n",
    "print(get_input(infix))\n",
    "rp = shunting(get_input(infix))\n",
    "maxcolwidths = [len(max(x, key=len)) for x in zip(*rp)]\n",
    "row = rp[0]\n",
    "print( ' '.join('{cell:^{width}}'.format(width=width, cell=cell) for (width, cell) in zip(maxcolwidths, row)))\n",
    "for row in rp[1:]:\n",
    "    print( ' '.join('{cell:<{width}}'.format(width=width, cell=cell) for (width, cell) in zip(maxcolwidths, row)))\n",
    " \n",
    "print('\\n The final output RPN is: %r' % rp[-1][2])"
   ]
  },
  {
   "cell_type": "code",
   "execution_count": 46,
   "metadata": {},
   "outputs": [
    {
     "data": {
      "text/plain": [
       "['3', '4', '2', '1', '2', '+', '^', '*', '+']"
      ]
     },
     "execution_count": 46,
     "metadata": {},
     "output_type": "execute_result"
    }
   ],
   "source": [
    "postfix = rp[-1][2].split(\" \")\n",
    "postfix"
   ]
  },
  {
   "cell_type": "code",
   "execution_count": 47,
   "metadata": {},
   "outputs": [
    {
     "name": "stdout",
     "output_type": "stream",
     "text": [
      "2+1\n",
      "temp result: 3.0\n",
      "3.0^2\n",
      "temp result: 9.0\n",
      "9.0*4\n",
      "temp result: 36.0\n",
      "36.0+3\n",
      "temp result: 39.0\n",
      "Result: 39.0\n"
     ]
    }
   ],
   "source": [
    "stack = []\n",
    "for token in postfix:\n",
    "    if token in ops:\n",
    "        operand_1 = stack.pop()\n",
    "        operand_2 = stack.pop()\n",
    "        print(str(operand_1) + token + str(operand_2))\n",
    "        result = ops_action[token](float(operand_1), float(operand_2))\n",
    "        #result = eval(str(operand_1) + token + str(operand_2))\n",
    "        print(\"temp result: \" + str(result))\n",
    "        stack.append(result)\n",
    "    else:\n",
    "        stack.append(token)\n",
    "result = stack.pop()\n",
    "print(\"Result: \" + str(result))"
   ]
  },
  {
   "cell_type": "code",
   "execution_count": null,
   "metadata": {},
   "outputs": [],
   "source": []
  },
  {
   "cell_type": "code",
   "execution_count": null,
   "metadata": {},
   "outputs": [],
   "source": []
  }
 ],
 "metadata": {
  "kernelspec": {
   "display_name": "Python 3",
   "language": "python",
   "name": "python3"
  },
  "language_info": {
   "codemirror_mode": {
    "name": "ipython",
    "version": 3
   },
   "file_extension": ".py",
   "mimetype": "text/x-python",
   "name": "python",
   "nbconvert_exporter": "python",
   "pygments_lexer": "ipython3",
   "version": "3.7.3"
  }
 },
 "nbformat": 4,
 "nbformat_minor": 2
}
