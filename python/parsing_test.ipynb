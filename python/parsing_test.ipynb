{
 "cells": [
  {
   "cell_type": "code",
   "execution_count": 48,
   "metadata": {},
   "outputs": [],
   "source": [
    "from math import cos, sin\n",
    "import re"
   ]
  },
  {
   "cell_type": "code",
   "execution_count": 100,
   "metadata": {},
   "outputs": [],
   "source": [
    "myFunc = \"x,y = cos(x) + 3\""
   ]
  },
  {
   "cell_type": "code",
   "execution_count": 105,
   "metadata": {},
   "outputs": [],
   "source": [
    "def evaluateString(input):\n",
    "    function_parts = re.split(\"=\", input)\n",
    "    \n",
    "    parameter_list = []\n",
    "    function = \"\"\n",
    "    # wenn Parameter definiert werden wie x = 3+x\n",
    "    if len(function_parts) > 1:\n",
    "        # Parameter auslesen aus dem linken Teil der Funktion Annahme, dass Parameter mit ',' getrennt werden\n",
    "        parameter_list = [x.strip() for x in re.split(\",\", function_parts[0])]\n",
    "        function = function_parts[1]\n",
    "    elif len(function_parts) == 1:\n",
    "        pass\n",
    "        # finde Parameter in der Funktion \n",
    "    else:\n",
    "        pass\n",
    "        # error: Annahme es gibt keine Funktionen mit zwei '='-Zeichen\n",
    "    \n",
    "    # lambda Funktion erstellen\n",
    "    output = \"lambda \"\n",
    "    # Parameter hinzufügen\n",
    "    output += \",\".join(parameter_list)\n",
    "    output += \":\"\n",
    "    # Funktion hinzufügen\n",
    "    output += function\n",
    "    print(\"Output: \" + output)\n",
    "    return eval(output)"
   ]
  },
  {
   "cell_type": "code",
   "execution_count": 106,
   "metadata": {},
   "outputs": [
    {
     "name": "stdout",
     "output_type": "stream",
     "text": [
      "Output: lambda x,y: cos(x) + 3\n"
     ]
    }
   ],
   "source": [
    "func = evaluateString(myFunc)"
   ]
  },
  {
   "cell_type": "code",
   "execution_count": 107,
   "metadata": {},
   "outputs": [
    {
     "data": {
      "text/plain": [
       "2.5838531634528574"
      ]
     },
     "execution_count": 107,
     "metadata": {},
     "output_type": "execute_result"
    }
   ],
   "source": [
    "func(2, 3)"
   ]
  },
  {
   "cell_type": "code",
   "execution_count": null,
   "metadata": {},
   "outputs": [],
   "source": []
  }
 ],
 "metadata": {
  "kernelspec": {
   "display_name": "Python 3",
   "language": "python",
   "name": "python3"
  },
  "language_info": {
   "codemirror_mode": {
    "name": "ipython",
    "version": 3
   },
   "file_extension": ".py",
   "mimetype": "text/x-python",
   "name": "python",
   "nbconvert_exporter": "python",
   "pygments_lexer": "ipython3",
   "version": "3.7.3"
  }
 },
 "nbformat": 4,
 "nbformat_minor": 2
}
